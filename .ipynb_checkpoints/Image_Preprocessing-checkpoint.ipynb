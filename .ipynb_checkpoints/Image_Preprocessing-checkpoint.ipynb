{
 "cells": [
  {
   "cell_type": "markdown",
   "id": "be15d4dd-c957-42f9-afc1-a409750a17fa",
   "metadata": {},
   "source": [
    "**Image Pre-processing Pipeline**"
   ]
  },
  {
   "cell_type": "code",
   "execution_count": 10,
   "id": "e20d157c-2e11-4fbe-bb22-97de22a29a0f",
   "metadata": {
    "tags": []
   },
   "outputs": [],
   "source": [
    "import numpy as np\n",
    "import matplotlib.pyplot as plt\n",
    "import glob\n",
    "import sys\n",
    "import os\n",
    "import tqdm\n",
    "\n",
    "\n",
    "sys.path.append('/home/common/HolschuhLab/Code/')\n",
    "sys.path.append('/home/common/HolschuhLab/Code/OtherRepos/snappy/')\n",
    "\n",
    "import NDH_Tools as ndh\n",
    "from esa_snappy import ProductIO\n",
    "from esa_snappy import PixelPos, GeoPos\n",
    "from esa_snappy import GPF, HashMap\n",
    "\n",
    "input_path = '/home/common/HolschuhLab/Data/Sentinel_Imagery/2025/S1A_IW_GRDH_1SSH_20250105T050718_20250105T050743_057304_070D00_E5D3.SAFE/'\n",
    "post_processing_folder = 'post_processing_folder/'\n",
    "output_dir = post_processing_folder\n",
    "if not os.path.exists(output_dir):\n",
    "    os.makedirs(output_dir)\n",
    "base_filename = 'S1A_IW_GRDH_1SSH_20250105T050718_20250105T050743_057304_070D00_E5D3'\n",
    "\n",
    "input_product = ProductIO.readProduct(input_path)"
   ]
  },
  {
   "cell_type": "markdown",
   "id": "392cfacb-92ab-40a4-bd19-b9e586a55700",
   "metadata": {},
   "source": [
    "**Processing Steps to be Taken**\n",
    "\n",
    "(1) Apply orbit file\n",
    "\n",
    "(2) Ellipsoid Correction\n",
    "\n",
    "(3) Thermal noise removal\n",
    "\n",
    "(4) Radiometric calibration\n",
    "\n",
    "(5) Speckle filtering\n",
    "\n",
    "(6) Terrain correction\n",
    "\n",
    "(7) Subset\n",
    "\n"
   ]
  },
  {
   "cell_type": "markdown",
   "id": "3307c407-f43d-4e0f-9af8-6777a2347eb0",
   "metadata": {},
   "source": [
    "**Applying Orbit File**"
   ]
  },
  {
   "cell_type": "code",
   "execution_count": 11,
   "id": "ffd2561f-e55b-4220-95cf-b315d1b40b68",
   "metadata": {},
   "outputs": [
    {
     "name": "stdout",
     "output_type": "stream",
     "text": [
      "\n",
      "100% done.\n",
      "Orbit product written to: post_processing_folder/S1A_IW_GRDH_1SSH_20250105T050718_20250105T050743_057304_070D00_E5D3_Orb.tif\n"
     ]
    }
   ],
   "source": [
    "#Orbit Correction\n",
    "\n",
    "\n",
    "orbit_params = HashMap()\n",
    "orbit_params.put('Orbit Type', 'Sentinel Precise (Auto Download)')\n",
    "orbit_params.put('Polynomial Degree', '3')\n",
    "orbit_params.put('ContinueOnFail', 'false')\n",
    "\n",
    "orbit_applied = GPF.createProduct('Apply-Orbit-File', orbit_params, input_product)\n",
    "orbit_applied.setName(base_filename + '_Orb')\n",
    "\n",
    "#save\n",
    "orbit_applied_filename = output_dir + orbit_applied.getName() + '.tif'\n",
    "ProductIO.writeProduct(orbit_applied, orbit_applied_filename, 'GeoTIFF')\n",
    "print(\"Orbit product written to:\", orbit_applied_filename)"
   ]
  },
  {
   "cell_type": "markdown",
   "id": "c7faaa11-e626-4b8e-9ef6-bd7b0f84424d",
   "metadata": {},
   "source": [
    "**Ellipsoid Correction**"
   ]
  },
  {
   "cell_type": "code",
   "execution_count": null,
   "id": "7b3a2a3b-5f98-49e9-92e2-27200f199aeb",
   "metadata": {},
   "outputs": [],
   "source": [
    "ellipsoid_params = HashMap()\n",
    "ellipsoid_params.put('externalDEMFile', '/home/common/HolschuhLab/Data/Antarctic_Imagery/REMA_Hillshade/REMA_200m_hillshade.nc')\n",
    "ellipsoid_params.put('mapProjection)', 'EPSG:3031')\n",
    "\n",
    "ellipsoid_corrected_product = GPF.createProduct('Ellipsoid-Correction-GG', ellipsoid_params, orbit_applied)\n",
    "ellipsoid_corrected_product.setName(base_filename + '_Orb_EC')\n",
    "\n",
    "#save\n",
    "ellipsoid_corrected_product_filename = output_dir + ellipsoid_corrected_product.getName() + '.tif'\n",
    "ProductIO.writeProduct(ellipsoid_corrected_product, ellipsoid_corrected_product_filename, 'GeoTIFF')\n",
    "print(\"Orbit product written to:\", ellipsoid_corrected_product_filename)"
   ]
  }
 ],
 "metadata": {
  "kernelspec": {
   "display_name": "Python 3 (amh-python-extra)",
   "language": "python",
   "name": "amh-python3"
  },
  "language_info": {
   "codemirror_mode": {
    "name": "ipython",
    "version": 3
   },
   "file_extension": ".py",
   "mimetype": "text/x-python",
   "name": "python",
   "nbconvert_exporter": "python",
   "pygments_lexer": "ipython3",
   "version": "3.9.21"
  }
 },
 "nbformat": 4,
 "nbformat_minor": 5
}
