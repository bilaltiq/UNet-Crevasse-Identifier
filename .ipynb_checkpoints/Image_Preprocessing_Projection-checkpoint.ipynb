{
 "cells": [
  {
   "cell_type": "markdown",
   "id": "be15d4dd-c957-42f9-afc1-a409750a17fa",
   "metadata": {},
   "source": [
    "**Image Pre-processing Pipeline**"
   ]
  },
  {
   "cell_type": "code",
   "execution_count": 1,
   "id": "e20d157c-2e11-4fbe-bb22-97de22a29a0f",
   "metadata": {
    "tags": []
   },
   "outputs": [
    {
     "name": "stderr",
     "output_type": "stream",
     "text": [
      "WARNING: An illegal reflective access operation has occurred\n",
      "WARNING: Illegal reflective access by org.esa.snap.runtime.Engine (file:/home/common/HolschuhLab/Code/esa-snap/opttbx/modules/ext/eu.esa.opt.opttbx-sentinel3-reader-ui/org-esa-snap/snap-runtime.jar) to method java.lang.ClassLoader.initializePath(java.lang.String)\n",
      "WARNING: Please consider reporting this to the maintainers of org.esa.snap.runtime.Engine\n",
      "WARNING: Use --illegal-access=warn to enable warnings of further illegal reflective access operations\n",
      "WARNING: All illegal access operations will be denied in a future release\n",
      "INFO: org.esa.snap.core.gpf.operators.tooladapter.ToolAdapterIO: Initializing external tool adapters\n",
      "INFO: org.esa.snap.core.util.EngineVersionCheckActivator: Please check regularly for new updates for the best SNAP experience.\n",
      "java.net.ConnectException: Connection timed out (Connection timed out)\n",
      "\tat java.base/java.net.PlainSocketImpl.socketConnect(Native Method)\n",
      "\tat java.base/java.net.AbstractPlainSocketImpl.doConnect(AbstractPlainSocketImpl.java:412)\n",
      "\tat java.base/java.net.AbstractPlainSocketImpl.connectToAddress(AbstractPlainSocketImpl.java:255)\n",
      "\tat java.base/java.net.AbstractPlainSocketImpl.connect(AbstractPlainSocketImpl.java:237)\n",
      "\tat java.base/java.net.Socket.connect(Socket.java:609)\n",
      "\tat java.base/java.net.Socket.connect(Socket.java:558)\n",
      "\tat java.base/sun.net.NetworkClient.doConnect(NetworkClient.java:182)\n",
      "\tat java.base/sun.net.www.http.HttpClient.openServer(HttpClient.java:507)\n",
      "\tat java.base/sun.net.www.http.HttpClient.openServer(HttpClient.java:602)\n",
      "\tat java.base/sun.net.www.http.HttpClient.<init>(HttpClient.java:275)\n",
      "\tat java.base/sun.net.www.http.HttpClient.New(HttpClient.java:374)\n",
      "\tat java.base/sun.net.www.http.HttpClient.New(HttpClient.java:395)\n",
      "\tat java.base/sun.net.www.protocol.http.HttpURLConnection.getNewHttpClient(HttpURLConnection.java:1253)\n",
      "\tat java.base/sun.net.www.protocol.http.HttpURLConnection.plainConnect0(HttpURLConnection.java:1187)\n",
      "\tat java.base/sun.net.www.protocol.http.HttpURLConnection.plainConnect(HttpURLConnection.java:1081)\n",
      "\tat java.base/sun.net.www.protocol.http.HttpURLConnection.connect(HttpURLConnection.java:1015)\n",
      "\tat java.base/sun.net.www.protocol.http.HttpURLConnection.getInputStream0(HttpURLConnection.java:1592)\n",
      "\tat java.base/sun.net.www.protocol.http.HttpURLConnection.getInputStream(HttpURLConnection.java:1520)\n",
      "\tat java.base/java.net.URL.openStream(URL.java:1165)\n",
      "\tat org.esa.snap.core.util.VersionChecker.getRemoteVersion(VersionChecker.java:144)\n",
      "\tat org.esa.snap.core.util.VersionChecker.checkForNewRelease(VersionChecker.java:92)\n",
      "\tat org.esa.snap.core.util.EngineVersionCheckActivator.start(EngineVersionCheckActivator.java:21)\n",
      "\tat org.esa.snap.runtime.Engine.informActivators(Engine.java:222)\n",
      "\tat org.esa.snap.runtime.Engine.lambda$start$0(Engine.java:121)\n",
      "\tat org.esa.snap.runtime.Engine.runClientCode(Engine.java:189)\n",
      "\tat org.esa.snap.runtime.Engine.start(Engine.java:121)\n",
      "\tat org.esa.snap.runtime.Engine.start(Engine.java:90)\n",
      "WARNING: org.esa.snap.core.util.VersionChecker: Not able to check for new SNAP version. Remote version could not be retrieved.\n"
     ]
    }
   ],
   "source": [
    "import numpy as np\n",
    "import matplotlib.pyplot as plt\n",
    "import glob\n",
    "import sys\n",
    "import os\n",
    "import tqdm\n",
    "\n",
    "\n",
    "sys.path.append('/home/common/HolschuhLab/Code/')\n",
    "sys.path.append('/home/common/HolschuhLab/Code/OtherRepos/snappy/')\n",
    "\n",
    "import NDH_Tools as ndh\n",
    "from esa_snappy import ProductIO\n",
    "from esa_snappy import PixelPos, GeoPos\n",
    "from esa_snappy import GPF, HashMap\n",
    "\n",
    "input_path = '/home/common/HolschuhLab/Data/Sentinel_Imagery/2025/S1A_IW_GRDH_1SSH_20250107T062838_20250107T062903_057334_070E2B_9957.SAFE'\n",
    "post_processing_folder = 'post_processing_folder/'\n",
    "output_dir = post_processing_folder\n",
    "if not os.path.exists(output_dir):\n",
    "    os.makedirs(output_dir)\n",
    "base_filename = 'S1A_IW_GRDH_1SSH_20250107T062838_20250107T062903_057334_070E2B_9957'\n",
    "\n",
    "input_product = ProductIO.readProduct(input_path)"
   ]
  },
  {
   "cell_type": "markdown",
   "id": "392cfacb-92ab-40a4-bd19-b9e586a55700",
   "metadata": {},
   "source": [
    "**Processing Steps to be Taken**\n",
    "\n",
    "(1) Apply orbit file\n",
    "\n",
    "(2) Ellipsoid Correction\n",
    "\n",
    "(3) Thermal noise removal\n",
    "\n",
    "(4) Radiometric calibration\n",
    "\n",
    "(5) Speckle filtering\n",
    "\n",
    "(6) Terrain correction\n",
    "\n",
    "(7) Subset\n",
    "\n"
   ]
  },
  {
   "cell_type": "markdown",
   "id": "3307c407-f43d-4e0f-9af8-6777a2347eb0",
   "metadata": {},
   "source": [
    "**Applying Orbit File**"
   ]
  },
  {
   "cell_type": "code",
   "execution_count": 2,
   "id": "ffd2561f-e55b-4220-95cf-b315d1b40b68",
   "metadata": {},
   "outputs": [
    {
     "name": "stderr",
     "output_type": "stream",
     "text": [
      "[Fatal Error] :6:3: The element type \"hr\" must be terminated by the matching end-tag \"</hr>\".\n",
      "SEVERE: org.esa.snap.core.dataop.downloadable.XMLSupport: cannot parse xml : The element type \"hr\" must be terminated by the matching end-tag \"</hr>\".\n",
      "WARNING: eu.esa.sar.orbits.gpf.ApplyOrbitFileOp: java.io.IOException: The element type \"hr\" must be terminated by the matching end-tag \"</hr>\".\n",
      "WARNING: eu.esa.sar.orbits.gpf.ApplyOrbitFileOp: Using Sentinel Restituted /home/mtariq27/.snap/auxdata/Orbits/Sentinel-1/RESORB/S1A/2025/01/S1A_OPER_AUX_RESORB_OPOD_20250107T073600_V20250107T033640_20250107T065410.EOF.zip instead\n"
     ]
    },
    {
     "name": "stdout",
     "output_type": "stream",
     "text": [
      "\n",
      "100% done.\n",
      "Orbit product written to: post_processing_folder/S1A_IW_GRDH_1SSH_20250107T062838_20250107T062903_057334_070E2B_9957_Orb.tif\n"
     ]
    }
   ],
   "source": [
    "#Orbit Correction\n",
    "orbit_params = HashMap()\n",
    "orbit_params.put('Orbit Type', 'Sentinel Precise (Auto Download)')\n",
    "orbit_params.put('Polynomial Degree', '3')\n",
    "orbit_params.put('ContinueOnFail', 'false')\n",
    "\n",
    "orbit_applied = GPF.createProduct('Apply-Orbit-File', orbit_params, input_product)\n",
    "orbit_applied.setName(base_filename + '_Orb')\n",
    "\n",
    "#save\n",
    "orbit_applied_filename = output_dir + orbit_applied.getName() + '.tif'\n",
    "ProductIO.writeProduct(orbit_applied, orbit_applied_filename, 'GeoTIFF')\n",
    "print(\"Orbit product written to:\", orbit_applied_filename)"
   ]
  },
  {
   "cell_type": "markdown",
   "id": "c7faaa11-e626-4b8e-9ef6-bd7b0f84424d",
   "metadata": {},
   "source": [
    "**Border Noise Removal**"
   ]
  },
  {
   "cell_type": "code",
   "execution_count": 3,
   "id": "c5cc8e34-53aa-4d26-ae2a-32f9c8faaad3",
   "metadata": {},
   "outputs": [
    {
     "name": "stdout",
     "output_type": "stream",
     "text": [
      "version = 3.9\n",
      "\n",
      "100% done.\n"
     ]
    }
   ],
   "source": [
    "# remove Border Noise\n",
    "border_params = HashMap()\n",
    "bnr_product = GPF.createProduct('Remove-GRD-Border-Noise', border_params, orbit_applied)\n",
    "\n"
   ]
  },
  {
   "cell_type": "markdown",
   "id": "c1f50c0c-65b9-442d-8268-c9e72d85061e",
   "metadata": {},
   "source": [
    "**Calibration**"
   ]
  },
  {
   "cell_type": "code",
   "execution_count": 4,
   "id": "0f5c3d21-16dc-4823-939c-b6e94734cea5",
   "metadata": {
    "tags": []
   },
   "outputs": [
    {
     "name": "stdout",
     "output_type": "stream",
     "text": [
      "\n",
      "100% done.\n",
      "Calibrated written to: post_processing_folder/S1A_IW_GRDH_1SSH_20250107T062838_20250107T062903_057334_070E2B_9957_Orb_Cal_BNR.tif\n"
     ]
    }
   ],
   "source": [
    "# Calibration\n",
    "calibration_params = HashMap()\n",
    "calibration_params.put('outputSigmaBand', True)\n",
    "calibration_params.put('sourceBands', 'Intensity_HH')  \n",
    "calibration_params.put('selectedPolarisations', 'HH')  \n",
    "calibration_params.put('outputImageScaleInDb', False)\n",
    "\n",
    "\n",
    "calibrated_product = GPF.createProduct('Calibration', calibration_params, bnr_product)\n",
    "calibrated_product.setName(base_filename + '_Orb_Cal_BNR')\n",
    "calibratedSP_filename = output_dir + calibrated_product.getName() + '.tif'\n",
    "ProductIO.writeProduct(calibrated_product, calibratedSP_filename, 'GeoTIFF')\n",
    "print(\"Calibrated written to:\", calibratedSP_filename)\n"
   ]
  },
  {
   "cell_type": "markdown",
   "id": "12b2a238-df90-41c0-80a5-c68770710872",
   "metadata": {},
   "source": [
    "**Thermal Noise Removal**"
   ]
  },
  {
   "cell_type": "code",
   "execution_count": 5,
   "id": "d8dbd1d9-22a1-4c73-8ef8-66c72e3e7421",
   "metadata": {
    "tags": []
   },
   "outputs": [
    {
     "name": "stdout",
     "output_type": "stream",
     "text": [
      "\n",
      "100% done.\n",
      "Noise Removal written to: post_processing_folder/S1A_IW_GRDH_1SSH_20250107T062838_20250107T062903_057334_070E2B_9957_Orb_NR_EC_Cal.tif\n"
     ]
    }
   ],
   "source": [
    "# Noise Removal\n",
    "tnr_params = HashMap() # remove antenna Thermal Noise (TNR)\n",
    "tnr_params.put('selectedPolarisations', 'HH') # HH polarization\n",
    "tnr_params.put('reIntroduceThermalNoise', 'false') # do not add thermal noise back\n",
    "tnr_product = GPF.createProduct('ThermalNoiseRemoval', tnr_params, calibrated_product)\n",
    "\n",
    "\n",
    "tnr_product.setName(base_filename + '_Orb_NR_EC_Cal')\n",
    "tnr_filename = output_dir + tnr_product.getName() + '.tif'\n",
    "ProductIO.writeProduct(tnr_product, tnr_filename, 'GeoTIFF')\n",
    "print(\"Noise Removal written to:\", tnr_filename)"
   ]
  },
  {
   "cell_type": "markdown",
   "id": "da62554d-f118-4777-9be7-5bf61eea2c4a",
   "metadata": {},
   "source": [
    "**Speckle Filtering**"
   ]
  },
  {
   "cell_type": "code",
   "execution_count": 6,
   "id": "26fbac31-cae3-4334-9027-180f36d5ea57",
   "metadata": {
    "tags": []
   },
   "outputs": [
    {
     "name": "stdout",
     "output_type": "stream",
     "text": [
      "\n",
      "100% done.\n",
      "Speckle Filtering written to: post_processing_folder/S1A_IW_GRDH_1SSH_20250107T062838_20250107T062903_057334_070E2B_9957_Orb_NR_Spk_Cal.tif\n"
     ]
    }
   ],
   "source": [
    "# speckle filtering\n",
    "speckle_params = HashMap()\n",
    "speckle_product = GPF.createProduct('Speckle-Filter', speckle_params, tnr_product)\n",
    "speckle_product.setName(base_filename + '_Orb_NR_Spk_Cal') # Update name to include _Spk\n",
    "\n",
    "# save\n",
    "SP_filename = output_dir + speckle_product.getName() + '.tif'\n",
    "ProductIO.writeProduct(speckle_product, SP_filename, 'GeoTIFF')\n",
    "print(\"Speckle Filtering written to:\", SP_filename)\n",
    "\n",
    "\n"
   ]
  },
  {
   "cell_type": "markdown",
   "id": "f6f32ff2-e857-4108-ba36-4701ae7cee7f",
   "metadata": {},
   "source": [
    "**Ellipsoid Correction**"
   ]
  },
  {
   "cell_type": "code",
   "execution_count": 7,
   "id": "7b3a2a3b-5f98-49e9-92e2-27200f199aeb",
   "metadata": {
    "tags": []
   },
   "outputs": [
    {
     "name": "stdout",
     "output_type": "stream",
     "text": [
      "\n",
      "100% done.\n",
      "Ellipsoid product written to: post_processing_folder/S1A_IW_GRDH_1SSH_20250107T062838_20250107T062903_057334_070E2B_9957_Orb_Cal_Spk_NR.tif\n"
     ]
    }
   ],
   "source": [
    "ellipsoid_params = HashMap()\n",
    "ellipsoid_params.put('externalDEMFile', '/home/common/HolschuhLab/Data/Antarctic_Imagery/REMA_Hillshade/REMA_200m_hillshade.nc')\n",
    "ellipsoid_params.put('mapProjection', 'EPSG:3031')\n",
    "\n",
    "ellipsoid_corrected_product = GPF.createProduct('Ellipsoid-Correction-GG', ellipsoid_params, speckle_product)\n",
    "ellipsoid_corrected_product.setName(base_filename + '_Orb_Cal_Spk_NR')\n",
    "\n",
    "#save\n",
    "ecp_name = output_dir + ellipsoid_corrected_product.getName() + '.tif'\n",
    "ProductIO.writeProduct(ellipsoid_corrected_product, ecp_name, 'GeoTIFF')\n",
    "print(\"Ellipsoid product written to:\", ecp_name)"
   ]
  },
  {
   "cell_type": "markdown",
   "id": "286951d7-6b4c-44f5-9f4e-4b26fbb7c447",
   "metadata": {},
   "source": [
    "**Adding BandMath to speckle filtering and calibration**"
   ]
  },
  {
   "cell_type": "code",
   "execution_count": 8,
   "id": "74309ed9-3a65-42be-9e30-7d3831d8bf72",
   "metadata": {
    "tags": []
   },
   "outputs": [
    {
     "name": "stdout",
     "output_type": "stream",
     "text": [
      "\n",
      "100% done.\n",
      "Step 5 written to: post_processing_folder/S1A_IW_GRDH_1SSH_20250107T062838_20250107T062903_057334_070E2B_9957_Orb_NR_Spk_Cal_EC_BandMath.tif\n"
     ]
    }
   ],
   "source": [
    "from esa_snappy import jpy\n",
    "\n",
    "# SP filtering w/ Calibration and Bandmaths\n",
    "bandmath_params = HashMap()\n",
    "\n",
    "BandDescriptor = jpy.get_type('org.esa.snap.core.gpf.common.BandMathsOp$BandDescriptor')\n",
    "targetBand = BandDescriptor()\n",
    "targetBand.name = 'Sigma0_HH_8bit'\n",
    "targetBand.type = 'uint8'\n",
    "targetBand.expression = 'Sigma0_HH * 255'\n",
    "targetBands = jpy.array('org.esa.snap.core.gpf.common.BandMathsOp$BandDescriptor', 1)\n",
    "\n",
    "targetBands[0] = targetBand\n",
    "\n",
    "bandmath_params.put('targetBands', targetBands)\n",
    "\n",
    "# band_names = calibrated_product.getBandNames()\n",
    "# for i in range(len(band_names)):\n",
    "#     print(band_names[i])\n",
    "\n",
    "# apply BandMaths\n",
    "bandmath_product = GPF.createProduct('BandMaths', bandmath_params, ellipsoid_corrected_product)\n",
    "\n",
    "# save output\n",
    "bandmath_product.setName(base_filename + '_Orb_NR_Spk_Cal_EC_BandMath')\n",
    "bandmath_filename = output_dir + bandmath_product.getName() + '.tif'\n",
    "ProductIO.writeProduct(bandmath_product, bandmath_filename, 'GeoTIFF')\n",
    "\n",
    "print(\"Step 5 written to:\", bandmath_filename)"
   ]
  },
  {
   "cell_type": "markdown",
   "id": "483f41c1-ebad-436d-8452-98fa5ab8a065",
   "metadata": {
    "tags": []
   },
   "source": [
    "**Loading Image**"
   ]
  },
  {
   "cell_type": "code",
   "execution_count": 9,
   "id": "d7be2103-506f-470f-8189-3ea5fa888839",
   "metadata": {
    "tags": []
   },
   "outputs": [
    {
     "ename": "RasterioIOError",
     "evalue": "post_processing_folder/S1A_IW_GRDH_1SSH_20250105T050718_20250105T050743_057304_070D00_E5D3_Orb_NR_Spk_Cal_EC_BandMath.tif: No such file or directory",
     "output_type": "error",
     "traceback": [
      "\u001b[0;31m---------------------------------------------------------------------------\u001b[0m",
      "\u001b[0;31mKeyError\u001b[0m                                  Traceback (most recent call last)",
      "File \u001b[0;32m/cm/shared/apps/amh-python-extra-py39/1.0/lib/python3.9/site-packages/xarray/backends/file_manager.py:211\u001b[0m, in \u001b[0;36mCachingFileManager._acquire_with_cache_info\u001b[0;34m(self, needs_lock)\u001b[0m\n\u001b[1;32m    210\u001b[0m \u001b[38;5;28;01mtry\u001b[39;00m:\n\u001b[0;32m--> 211\u001b[0m     file \u001b[38;5;241m=\u001b[39m \u001b[38;5;28;43mself\u001b[39;49m\u001b[38;5;241;43m.\u001b[39;49m\u001b[43m_cache\u001b[49m\u001b[43m[\u001b[49m\u001b[38;5;28;43mself\u001b[39;49m\u001b[38;5;241;43m.\u001b[39;49m\u001b[43m_key\u001b[49m\u001b[43m]\u001b[49m\n\u001b[1;32m    212\u001b[0m \u001b[38;5;28;01mexcept\u001b[39;00m \u001b[38;5;167;01mKeyError\u001b[39;00m:\n",
      "File \u001b[0;32m/cm/shared/apps/amh-python-extra-py39/1.0/lib/python3.9/site-packages/xarray/backends/lru_cache.py:56\u001b[0m, in \u001b[0;36mLRUCache.__getitem__\u001b[0;34m(self, key)\u001b[0m\n\u001b[1;32m     55\u001b[0m \u001b[38;5;28;01mwith\u001b[39;00m \u001b[38;5;28mself\u001b[39m\u001b[38;5;241m.\u001b[39m_lock:\n\u001b[0;32m---> 56\u001b[0m     value \u001b[38;5;241m=\u001b[39m \u001b[38;5;28;43mself\u001b[39;49m\u001b[38;5;241;43m.\u001b[39;49m\u001b[43m_cache\u001b[49m\u001b[43m[\u001b[49m\u001b[43mkey\u001b[49m\u001b[43m]\u001b[49m\n\u001b[1;32m     57\u001b[0m     \u001b[38;5;28mself\u001b[39m\u001b[38;5;241m.\u001b[39m_cache\u001b[38;5;241m.\u001b[39mmove_to_end(key)\n",
      "\u001b[0;31mKeyError\u001b[0m: [<function open at 0x7ffff6c86af0>, ('post_processing_folder/S1A_IW_GRDH_1SSH_20250105T050718_20250105T050743_057304_070D00_E5D3_Orb_NR_Spk_Cal_EC_BandMath.tif',), 'r', (('sharing', False),), '9b401d11-d6d0-4c5d-8c92-a8f5304d596e']",
      "\nDuring handling of the above exception, another exception occurred:\n",
      "\u001b[0;31mCPLE_OpenFailedError\u001b[0m                      Traceback (most recent call last)",
      "File \u001b[0;32mrasterio/_base.pyx:310\u001b[0m, in \u001b[0;36mrasterio._base.DatasetBase.__init__\u001b[0;34m()\u001b[0m\n",
      "File \u001b[0;32mrasterio/_base.pyx:221\u001b[0m, in \u001b[0;36mrasterio._base.open_dataset\u001b[0;34m()\u001b[0m\n",
      "File \u001b[0;32mrasterio/_err.pyx:359\u001b[0m, in \u001b[0;36mrasterio._err.exc_wrap_pointer\u001b[0;34m()\u001b[0m\n",
      "\u001b[0;31mCPLE_OpenFailedError\u001b[0m: post_processing_folder/S1A_IW_GRDH_1SSH_20250105T050718_20250105T050743_057304_070D00_E5D3_Orb_NR_Spk_Cal_EC_BandMath.tif: No such file or directory",
      "\nDuring handling of the above exception, another exception occurred:\n",
      "\u001b[0;31mRasterioIOError\u001b[0m                           Traceback (most recent call last)",
      "Cell \u001b[0;32mIn[9], line 7\u001b[0m\n\u001b[1;32m      5\u001b[0m relative_data_path \u001b[38;5;241m=\u001b[39m \u001b[38;5;124m'\u001b[39m\u001b[38;5;124mS1A_IW_GRDH_1SSH_20250105T050718_20250105T050743_057304_070D00_E5D3_Orb_NR_Spk_Cal_EC_BandMath.tif\u001b[39m\u001b[38;5;124m'\u001b[39m\n\u001b[1;32m      6\u001b[0m load_data_path \u001b[38;5;241m=\u001b[39m output_dir \u001b[38;5;241m+\u001b[39m relative_data_path\n\u001b[0;32m----> 7\u001b[0m data \u001b[38;5;241m=\u001b[39m \u001b[43mrxr\u001b[49m\u001b[38;5;241;43m.\u001b[39;49m\u001b[43mopen_rasterio\u001b[49m\u001b[43m(\u001b[49m\u001b[43mload_data_path\u001b[49m\u001b[43m)\u001b[49m\n\u001b[1;32m     10\u001b[0m \u001b[38;5;28mprint\u001b[39m(data\u001b[38;5;241m.\u001b[39mdims)\n\u001b[1;32m     12\u001b[0m \u001b[38;5;66;03m# plotting\u001b[39;00m\n",
      "File \u001b[0;32m/cm/shared/apps/amh-python-extra-py39/1.0/lib/python3.9/site-packages/rioxarray/_io.py:1124\u001b[0m, in \u001b[0;36mopen_rasterio\u001b[0;34m(filename, parse_coordinates, chunks, cache, lock, masked, mask_and_scale, variable, group, default_name, decode_times, decode_timedelta, band_as_variable, **open_kwargs)\u001b[0m\n\u001b[1;32m   1122\u001b[0m     \u001b[38;5;28;01melse\u001b[39;00m:\n\u001b[1;32m   1123\u001b[0m         manager \u001b[38;5;241m=\u001b[39m URIManager(file_opener, filename, mode\u001b[38;5;241m=\u001b[39m\u001b[38;5;124m\"\u001b[39m\u001b[38;5;124mr\u001b[39m\u001b[38;5;124m\"\u001b[39m, kwargs\u001b[38;5;241m=\u001b[39mopen_kwargs)\n\u001b[0;32m-> 1124\u001b[0m     riods \u001b[38;5;241m=\u001b[39m \u001b[43mmanager\u001b[49m\u001b[38;5;241;43m.\u001b[39;49m\u001b[43macquire\u001b[49m\u001b[43m(\u001b[49m\u001b[43m)\u001b[49m\n\u001b[1;32m   1125\u001b[0m     captured_warnings \u001b[38;5;241m=\u001b[39m rio_warnings\u001b[38;5;241m.\u001b[39mcopy()\n\u001b[1;32m   1127\u001b[0m \u001b[38;5;66;03m# raise the NotGeoreferencedWarning if applicable\u001b[39;00m\n",
      "File \u001b[0;32m/cm/shared/apps/amh-python-extra-py39/1.0/lib/python3.9/site-packages/xarray/backends/file_manager.py:193\u001b[0m, in \u001b[0;36mCachingFileManager.acquire\u001b[0;34m(self, needs_lock)\u001b[0m\n\u001b[1;32m    178\u001b[0m \u001b[38;5;28;01mdef\u001b[39;00m\u001b[38;5;250m \u001b[39m\u001b[38;5;21macquire\u001b[39m(\u001b[38;5;28mself\u001b[39m, needs_lock\u001b[38;5;241m=\u001b[39m\u001b[38;5;28;01mTrue\u001b[39;00m):\n\u001b[1;32m    179\u001b[0m \u001b[38;5;250m    \u001b[39m\u001b[38;5;124;03m\"\"\"Acquire a file object from the manager.\u001b[39;00m\n\u001b[1;32m    180\u001b[0m \n\u001b[1;32m    181\u001b[0m \u001b[38;5;124;03m    A new file is only opened if it has expired from the\u001b[39;00m\n\u001b[0;32m   (...)\u001b[0m\n\u001b[1;32m    191\u001b[0m \u001b[38;5;124;03m        An open file object, as returned by ``opener(*args, **kwargs)``.\u001b[39;00m\n\u001b[1;32m    192\u001b[0m \u001b[38;5;124;03m    \"\"\"\u001b[39;00m\n\u001b[0;32m--> 193\u001b[0m     file, _ \u001b[38;5;241m=\u001b[39m \u001b[38;5;28;43mself\u001b[39;49m\u001b[38;5;241;43m.\u001b[39;49m\u001b[43m_acquire_with_cache_info\u001b[49m\u001b[43m(\u001b[49m\u001b[43mneeds_lock\u001b[49m\u001b[43m)\u001b[49m\n\u001b[1;32m    194\u001b[0m     \u001b[38;5;28;01mreturn\u001b[39;00m file\n",
      "File \u001b[0;32m/cm/shared/apps/amh-python-extra-py39/1.0/lib/python3.9/site-packages/xarray/backends/file_manager.py:217\u001b[0m, in \u001b[0;36mCachingFileManager._acquire_with_cache_info\u001b[0;34m(self, needs_lock)\u001b[0m\n\u001b[1;32m    215\u001b[0m     kwargs \u001b[38;5;241m=\u001b[39m kwargs\u001b[38;5;241m.\u001b[39mcopy()\n\u001b[1;32m    216\u001b[0m     kwargs[\u001b[38;5;124m\"\u001b[39m\u001b[38;5;124mmode\u001b[39m\u001b[38;5;124m\"\u001b[39m] \u001b[38;5;241m=\u001b[39m \u001b[38;5;28mself\u001b[39m\u001b[38;5;241m.\u001b[39m_mode\n\u001b[0;32m--> 217\u001b[0m file \u001b[38;5;241m=\u001b[39m \u001b[38;5;28;43mself\u001b[39;49m\u001b[38;5;241;43m.\u001b[39;49m\u001b[43m_opener\u001b[49m\u001b[43m(\u001b[49m\u001b[38;5;241;43m*\u001b[39;49m\u001b[38;5;28;43mself\u001b[39;49m\u001b[38;5;241;43m.\u001b[39;49m\u001b[43m_args\u001b[49m\u001b[43m,\u001b[49m\u001b[43m \u001b[49m\u001b[38;5;241;43m*\u001b[39;49m\u001b[38;5;241;43m*\u001b[39;49m\u001b[43mkwargs\u001b[49m\u001b[43m)\u001b[49m\n\u001b[1;32m    218\u001b[0m \u001b[38;5;28;01mif\u001b[39;00m \u001b[38;5;28mself\u001b[39m\u001b[38;5;241m.\u001b[39m_mode \u001b[38;5;241m==\u001b[39m \u001b[38;5;124m\"\u001b[39m\u001b[38;5;124mw\u001b[39m\u001b[38;5;124m\"\u001b[39m:\n\u001b[1;32m    219\u001b[0m     \u001b[38;5;66;03m# ensure file doesn't get overridden when opened again\u001b[39;00m\n\u001b[1;32m    220\u001b[0m     \u001b[38;5;28mself\u001b[39m\u001b[38;5;241m.\u001b[39m_mode \u001b[38;5;241m=\u001b[39m \u001b[38;5;124m\"\u001b[39m\u001b[38;5;124ma\u001b[39m\u001b[38;5;124m\"\u001b[39m\n",
      "File \u001b[0;32m/cm/shared/apps/amh-python-extra-py39/1.0/lib/python3.9/site-packages/rasterio/env.py:463\u001b[0m, in \u001b[0;36mensure_env_with_credentials.<locals>.wrapper\u001b[0;34m(*args, **kwds)\u001b[0m\n\u001b[1;32m    460\u001b[0m     session \u001b[38;5;241m=\u001b[39m DummySession()\n\u001b[1;32m    462\u001b[0m \u001b[38;5;28;01mwith\u001b[39;00m env_ctor(session\u001b[38;5;241m=\u001b[39msession):\n\u001b[0;32m--> 463\u001b[0m     \u001b[38;5;28;01mreturn\u001b[39;00m \u001b[43mf\u001b[49m\u001b[43m(\u001b[49m\u001b[38;5;241;43m*\u001b[39;49m\u001b[43margs\u001b[49m\u001b[43m,\u001b[49m\u001b[43m \u001b[49m\u001b[38;5;241;43m*\u001b[39;49m\u001b[38;5;241;43m*\u001b[39;49m\u001b[43mkwds\u001b[49m\u001b[43m)\u001b[49m\n",
      "File \u001b[0;32m/cm/shared/apps/amh-python-extra-py39/1.0/lib/python3.9/site-packages/rasterio/__init__.py:356\u001b[0m, in \u001b[0;36mopen\u001b[0;34m(fp, mode, driver, width, height, count, crs, transform, dtype, nodata, sharing, opener, **kwargs)\u001b[0m\n\u001b[1;32m    353\u001b[0m     path \u001b[38;5;241m=\u001b[39m _parse_path(raw_dataset_path)\n\u001b[1;32m    355\u001b[0m \u001b[38;5;28;01mif\u001b[39;00m mode \u001b[38;5;241m==\u001b[39m \u001b[38;5;124m\"\u001b[39m\u001b[38;5;124mr\u001b[39m\u001b[38;5;124m\"\u001b[39m:\n\u001b[0;32m--> 356\u001b[0m     dataset \u001b[38;5;241m=\u001b[39m \u001b[43mDatasetReader\u001b[49m\u001b[43m(\u001b[49m\u001b[43mpath\u001b[49m\u001b[43m,\u001b[49m\u001b[43m \u001b[49m\u001b[43mdriver\u001b[49m\u001b[38;5;241;43m=\u001b[39;49m\u001b[43mdriver\u001b[49m\u001b[43m,\u001b[49m\u001b[43m \u001b[49m\u001b[43msharing\u001b[49m\u001b[38;5;241;43m=\u001b[39;49m\u001b[43msharing\u001b[49m\u001b[43m,\u001b[49m\u001b[43m \u001b[49m\u001b[38;5;241;43m*\u001b[39;49m\u001b[38;5;241;43m*\u001b[39;49m\u001b[43mkwargs\u001b[49m\u001b[43m)\u001b[49m\n\u001b[1;32m    357\u001b[0m \u001b[38;5;28;01melif\u001b[39;00m mode \u001b[38;5;241m==\u001b[39m \u001b[38;5;124m\"\u001b[39m\u001b[38;5;124mr+\u001b[39m\u001b[38;5;124m\"\u001b[39m:\n\u001b[1;32m    358\u001b[0m     dataset \u001b[38;5;241m=\u001b[39m get_writer_for_path(path, driver\u001b[38;5;241m=\u001b[39mdriver)(\n\u001b[1;32m    359\u001b[0m         path, mode, driver\u001b[38;5;241m=\u001b[39mdriver, sharing\u001b[38;5;241m=\u001b[39msharing, \u001b[38;5;241m*\u001b[39m\u001b[38;5;241m*\u001b[39mkwargs\n\u001b[1;32m    360\u001b[0m     )\n",
      "File \u001b[0;32mrasterio/_base.pyx:312\u001b[0m, in \u001b[0;36mrasterio._base.DatasetBase.__init__\u001b[0;34m()\u001b[0m\n",
      "\u001b[0;31mRasterioIOError\u001b[0m: post_processing_folder/S1A_IW_GRDH_1SSH_20250105T050718_20250105T050743_057304_070D00_E5D3_Orb_NR_Spk_Cal_EC_BandMath.tif: No such file or directory"
     ]
    }
   ],
   "source": [
    "import rioxarray as rxr\n",
    "import matplotlib.pyplot as plt\n",
    "\n",
    "# load post processed raster image\n",
    "relative_data_path = 'S1A_IW_GRDH_1SSH_20250107T062838_20250107T062903_057334_070E2B_9957_Orb_NR_Spk_Cal_EC_BandMath.tif'\n",
    "load_data_path = output_dir + relative_data_path\n",
    "data = rxr.open_rasterio(load_data_path)\n",
    "\n",
    "\n",
    "print(data.dims)\n",
    "\n",
    "# plotting\n",
    "plt.figure(figsize=(10, 5))\n",
    "data.plot(vmin=0, vmax=255)\n",
    "plt.title(\"plot\")\n",
    "plt.show()\n",
    "\n",
    "\n"
   ]
  },
  {
   "cell_type": "code",
   "execution_count": null,
   "id": "79dc0c72-b553-427a-a9e8-29ddd3cc0b23",
   "metadata": {
    "tags": []
   },
   "outputs": [],
   "source": [
    "print(data.min().item(), data.max().item())"
   ]
  },
  {
   "cell_type": "code",
   "execution_count": null,
   "id": "9c7acfec-5971-4b35-94c6-db611726f155",
   "metadata": {
    "tags": []
   },
   "outputs": [],
   "source": [
    "plt.hist(data.values.ravel(),np.arange(0,255))"
   ]
  }
 ],
 "metadata": {
  "kernelspec": {
   "display_name": "Python 3 (amh-python-extra)",
   "language": "python",
   "name": "amh-python3"
  },
  "language_info": {
   "codemirror_mode": {
    "name": "ipython",
    "version": 3
   },
   "file_extension": ".py",
   "mimetype": "text/x-python",
   "name": "python",
   "nbconvert_exporter": "python",
   "pygments_lexer": "ipython3",
   "version": "3.9.21"
  }
 },
 "nbformat": 4,
 "nbformat_minor": 5
}
