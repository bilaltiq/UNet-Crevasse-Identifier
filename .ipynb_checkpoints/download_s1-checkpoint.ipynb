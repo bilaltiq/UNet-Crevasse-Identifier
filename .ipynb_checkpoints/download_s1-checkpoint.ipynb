{
 "cells": [
  {
   "cell_type": "code",
   "execution_count": 6,
   "id": "7a3bf4d9-e204-4a1f-9f72-cc64de3fdda6",
   "metadata": {
    "tags": []
   },
   "outputs": [
    {
     "ename": "TypeError",
     "evalue": "auth_with_creds() missing 2 required positional arguments: 'username' and 'password'",
     "output_type": "error",
     "traceback": [
      "\u001b[0;31m---------------------------------------------------------------------------\u001b[0m",
      "\u001b[0;31mTypeError\u001b[0m                                 Traceback (most recent call last)",
      "Cell \u001b[0;32mIn[6], line 8\u001b[0m\n\u001b[1;32m      5\u001b[0m data_dir \u001b[38;5;241m=\u001b[39m \u001b[38;5;124m'\u001b[39m\u001b[38;5;124m/UNet_Data/UnprocessedTrainingImages/\u001b[39m\u001b[38;5;124m'\u001b[39m \n\u001b[1;32m      7\u001b[0m \u001b[38;5;66;03m# Authenticate session\u001b[39;00m\n\u001b[0;32m----> 8\u001b[0m session \u001b[38;5;241m=\u001b[39m \u001b[43masf\u001b[49m\u001b[38;5;241;43m.\u001b[39;49m\u001b[43mASFSession\u001b[49m\u001b[43m(\u001b[49m\u001b[43m)\u001b[49m\u001b[38;5;241;43m.\u001b[39;49m\u001b[43mauth_with_creds\u001b[49m\u001b[43m(\u001b[49m\u001b[43m)\u001b[49m\n\u001b[1;32m     10\u001b[0m \u001b[38;5;66;03m# Search for the product\u001b[39;00m\n\u001b[1;32m     11\u001b[0m result \u001b[38;5;241m=\u001b[39m asf\u001b[38;5;241m.\u001b[39mproduct_search(fileID)\n",
      "\u001b[0;31mTypeError\u001b[0m: auth_with_creds() missing 2 required positional arguments: 'username' and 'password'"
     ]
    }
   ],
   "source": [
    "import os\n",
    "import asf_search as asf\n",
    "\n",
    "fileID = 'S1A_IW_GRDH_1SSH_20170207T084614_20170207T084639_015175_018D57_11E6'\n",
    "data_dir = '/UNet_Data/UnprocessedTrainingImages/' \n",
    "\n",
    "# Authenticate session\n",
    "session = asf.ASFSession().auth_with_creds()\n",
    "\n",
    "# Search for the product\n",
    "result = asf.product_search(fileID)\n",
    "\n",
    "print(f\"Number of results found: {len(result)}\")\n",
    "\n",
    "if result:\n",
    "    filename = f\"{fileID}.SAFE\"\n",
    "    print(f\"Downloading {filename}...\")\n",
    "    result[0].download(path=data_dir, session=session)\n",
    "    print(f\"Download completed: {filename}\")\n",
    "else:\n",
    "    print(\"No matching product found\")\n"
   ]
  },
  {
   "cell_type": "code",
   "execution_count": null,
   "id": "758a120c-8650-443c-8e47-f7372cc96cc3",
   "metadata": {},
   "outputs": [],
   "source": []
  },
  {
   "cell_type": "code",
   "execution_count": null,
   "id": "04f08b26-6a28-450b-8b62-52930f0c6f4f",
   "metadata": {},
   "outputs": [],
   "source": []
  }
 ],
 "metadata": {
  "kernelspec": {
   "display_name": "Python 3",
   "language": "python",
   "name": "python3"
  },
  "language_info": {
   "codemirror_mode": {
    "name": "ipython",
    "version": 3
   },
   "file_extension": ".py",
   "mimetype": "text/x-python",
   "name": "python",
   "nbconvert_exporter": "python",
   "pygments_lexer": "ipython3",
   "version": "3.9.21"
  }
 },
 "nbformat": 4,
 "nbformat_minor": 5
}
