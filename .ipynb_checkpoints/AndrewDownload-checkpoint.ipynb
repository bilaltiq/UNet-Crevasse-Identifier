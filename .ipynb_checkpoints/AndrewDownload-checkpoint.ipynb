{
 "cells": [
  {
   "cell_type": "code",
   "execution_count": 5,
   "id": "dd380bfa-dbcf-4486-bbf2-da179199b1c1",
   "metadata": {
    "tags": []
   },
   "outputs": [
    {
     "name": "stdout",
     "output_type": "stream",
     "text": [
      "Number of results found: 2\n",
      "Downloading S1A_IW_GRDH_1SSH_20170207T084614_20170207T084639_015175_018D57_11E6.zip...\n",
      "Download completed: S1A_IW_GRDH_1SSH_20170207T084614_20170207T084639_015175_018D57_11E6.zip\n"
     ]
    }
   ],
   "source": [
    "import os\n",
    "import asf_search as asf\n",
    "\n",
    "fileID = 'S1A_IW_GRDH_1SSH_20170207T084614_20170207T084639_015175_018D57_11E6'\n",
    "data_dir = 'UNet_Data/' \n",
    "\n",
    "# Authenticate session\n",
    "session = asf.ASFSession()\n",
    "# Search for the product\n",
    "result = asf.granule_search([fileID])\n",
    "\n",
    "print(f\"Number of results found: {len(result)}\")\n",
    "\n",
    "if result:\n",
    "    filename = f\"{fileID}.zip\"\n",
    "    print(f\"Downloading {filename}...\")\n",
    "    result[1].download(path=data_dir, session=session)\n",
    "    print(f\"Download completed: {filename}\")\n",
    "else:\n",
    "    print(\"No matching product found\")\n"
   ]
  },
  {
   "cell_type": "code",
   "execution_count": 10,
   "id": "d7bb4b28-07dc-4f2d-95fb-c1c58127a114",
   "metadata": {
    "tags": []
   },
   "outputs": [
    {
     "name": "stdout",
     "output_type": "stream",
     "text": [
      "Unzipping UNet_Data/S1A_IW_GRDH_1SSH_20170207T084614_20170207T084639_015175_018D57_11E6.zip...\n",
      "Archive:  UNet_Data/S1A_IW_GRDH_1SSH_20170207T084614_20170207T084639_015175_018D57_11E6.zip\n",
      "   creating: UNet_Data/S1A_IW_GRDH_1SSH_20170207T084614_20170207T084639_015175_018D57_11E6.SAFE/annotation/\n",
      "  inflating: UNet_Data/S1A_IW_GRDH_1SSH_20170207T084614_20170207T084639_015175_018D57_11E6.SAFE/annotation/s1a-iw-grd-hh-20170207t084614-20170207t084639-015175-018d57-001.xml  \n",
      "   creating: UNet_Data/S1A_IW_GRDH_1SSH_20170207T084614_20170207T084639_015175_018D57_11E6.SAFE/annotation/calibration/\n",
      "  inflating: UNet_Data/S1A_IW_GRDH_1SSH_20170207T084614_20170207T084639_015175_018D57_11E6.SAFE/annotation/calibration/calibration-s1a-iw-grd-hh-20170207t084614-20170207t084639-015175-018d57-001.xml  \n",
      "  inflating: UNet_Data/S1A_IW_GRDH_1SSH_20170207T084614_20170207T084639_015175_018D57_11E6.SAFE/annotation/calibration/noise-s1a-iw-grd-hh-20170207t084614-20170207t084639-015175-018d57-001.xml  \n",
      "  inflating: UNet_Data/S1A_IW_GRDH_1SSH_20170207T084614_20170207T084639_015175_018D57_11E6.SAFE/S1A_IW_GRDH_1SSH_20170207T084614_20170207T084639_015175_018D57_11E6.SAFE-report-20170207T102329.pdf  \n",
      "  inflating: UNet_Data/S1A_IW_GRDH_1SSH_20170207T084614_20170207T084639_015175_018D57_11E6.SAFE/manifest.safe  \n",
      "   creating: UNet_Data/S1A_IW_GRDH_1SSH_20170207T084614_20170207T084639_015175_018D57_11E6.SAFE/preview/\n",
      "  inflating: UNet_Data/S1A_IW_GRDH_1SSH_20170207T084614_20170207T084639_015175_018D57_11E6.SAFE/preview/quick-look.png  \n",
      "  inflating: UNet_Data/S1A_IW_GRDH_1SSH_20170207T084614_20170207T084639_015175_018D57_11E6.SAFE/preview/map-overlay.kml  \n",
      "  inflating: UNet_Data/S1A_IW_GRDH_1SSH_20170207T084614_20170207T084639_015175_018D57_11E6.SAFE/preview/product-preview.html  \n",
      "   creating: UNet_Data/S1A_IW_GRDH_1SSH_20170207T084614_20170207T084639_015175_018D57_11E6.SAFE/preview/icons/\n",
      "  inflating: UNet_Data/S1A_IW_GRDH_1SSH_20170207T084614_20170207T084639_015175_018D57_11E6.SAFE/preview/icons/logo.png  \n",
      "Error unzipping UNet_Data/S1A_IW_GRDH_1SSH_20170207T084614_20170207T084639_015175_018D57_11E6.zip: Command '['unzip', 'UNet_Data/S1A_IW_GRDH_1SSH_20170207T084614_20170207T084639_015175_018D57_11E6.zip', '-d', 'UNet_Data']' returned non-zero exit status 1.\n"
     ]
    },
    {
     "name": "stderr",
     "output_type": "stream",
     "text": [
      "replace UNet_Data/S1A_IW_GRDH_1SSH_20170207T084614_20170207T084639_015175_018D57_11E6.SAFE/support/s1-level-1-calibration.xsd? [y]es, [n]o, [A]ll, [N]one, [r]ename:  NULL\n",
      "(EOF or read error, treating as \"[N]one\" ...)\n"
     ]
    }
   ],
   "source": [
    "import glob\n",
    "import subprocess\n",
    "\n",
    "zip_files = sorted(glob.glob(data_dir+'/*.zip'))\n",
    "\n",
    "for zf in zip_files:\n",
    "            print(f\"Unzipping {zf}...\")\n",
    "            try:\n",
    "                zip_directory = '/'.join(zf.split('/')[:-1])\n",
    "\n",
    "                subprocess.run(['unzip', zf, '-d', zip_directory], check=True)\n",
    "                print(f\"Unzipped {zf}\")\n",
    "            except subprocess.CalledProcessError as e:\n",
    "                    print(f\"Error unzipping {zf}: {e}\")"
   ]
  },
  {
   "cell_type": "code",
   "execution_count": null,
   "id": "00f8cd71-0bb6-445d-9e9f-04dc218ec6dc",
   "metadata": {},
   "outputs": [],
   "source": []
  }
 ],
 "metadata": {
  "kernelspec": {
   "display_name": "Python 3",
   "language": "python",
   "name": "python3"
  },
  "language_info": {
   "codemirror_mode": {
    "name": "ipython",
    "version": 3
   },
   "file_extension": ".py",
   "mimetype": "text/x-python",
   "name": "python",
   "nbconvert_exporter": "python",
   "pygments_lexer": "ipython3",
   "version": "3.9.21"
  }
 },
 "nbformat": 4,
 "nbformat_minor": 5
}
